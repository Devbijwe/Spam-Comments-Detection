{
 "cells": [
  {
   "cell_type": "code",
   "execution_count": 1,
   "metadata": {},
   "outputs": [],
   "source": [
    "import pandas as pd\n",
    "import numpy as np\n",
    "from sklearn.feature_extraction.text import CountVectorizer\n",
    "from sklearn.model_selection import train_test_split\n",
    "from sklearn.naive_bayes import BernoulliNB\n"
   ]
  },
  {
   "cell_type": "code",
   "execution_count": 2,
   "metadata": {},
   "outputs": [
    {
     "name": "stdout",
     "output_type": "stream",
     "text": [
      "                                COMMENT_ID  \\\n",
      "39       z13ce52jzwfitrkup23din4ojputijen3   \n",
      "111  z13kfzqicymszt0jp04ci5gqvqemyb2jsp00k   \n",
      "3      z13jhp0bxqncu512g22wvzkasxmvvzjaz04   \n",
      "280  z12ivx14lye5szr4k04cddnhuujytfhz4v00k   \n",
      "293  z13nvtepirfuhrral04cc10xkkygibq53t40k   \n",
      "\n",
      "                                 AUTHOR                 DATE  \\\n",
      "39                       Eugene Kalinin  2014-01-19T19:21:04   \n",
      "111                      OFFICIAL LEXIS  2014-11-04T20:22:21   \n",
      "3                       ElNino Melendez  2013-11-09T08:28:43   \n",
      "280                      The Silhouette  2014-11-08T09:25:51   \n",
      "293  nobleMC | Minecraft, GFX and More!  2014-11-08T10:48:41   \n",
      "\n",
      "                                               CONTENT  CLASS  \n",
      "39   The projects After Effects, Music, Foto, Web s...      1  \n",
      "111  Hi everyone! Do you like music? Then why not c...      1  \n",
      "3     me shaking my sexy ass on my channel enjoy ^_^ ﻿      1  \n",
      "280  Most viewed video on youtube...daaaaaaaaaaannn...      0  \n",
      "293  If I get 300 subscribers by tomorrow I'll do a...      1  \n"
     ]
    }
   ],
   "source": [
    "\n",
    "data = pd.read_csv(\"data/Youtube01-Psy.csv\")\n",
    "print(data.sample(5))"
   ]
  },
  {
   "cell_type": "code",
   "execution_count": 3,
   "metadata": {},
   "outputs": [
    {
     "name": "stdout",
     "output_type": "stream",
     "text": [
      "                                               CONTENT  CLASS\n",
      "214               Still watching this 2 years later? ﻿      0\n",
      "269  1 millioon dislikessssssssssssssssssssssssssss...      0\n",
      "117            5 milions comentars and 2 bilion views﻿      0\n",
      "125                                Great music anyway﻿      0\n",
      "239   Can we reach 3 billion views by December 2014? ﻿      0\n"
     ]
    }
   ],
   "source": [
    "data = data[[\"CONTENT\", \"CLASS\"]]\n",
    "print(data.sample(5))"
   ]
  },
  {
   "cell_type": "code",
   "execution_count": 4,
   "metadata": {},
   "outputs": [
    {
     "name": "stdout",
     "output_type": "stream",
     "text": [
      "                                               CONTENT         CLASS\n",
      "135                             Ahhh, 2 years ago....﻿      Not Spam\n",
      "199          Subscribe to me plz plz plz plz plz plZ ﻿  Spam Comment\n",
      "30   everyone please come check our newest song in ...  Spam Comment\n",
      "87   Wow. Comments section on this still active. No...      Not Spam\n",
      "80     http://woobox.com/33gxrf/brt0u5 FREE CS GO!!!!﻿  Spam Comment\n"
     ]
    }
   ],
   "source": [
    "data[\"CLASS\"] = data[\"CLASS\"].map({0: \"Not Spam\",\n",
    "                                   1: \"Spam Comment\"})\n",
    "print(data.sample(5))"
   ]
  },
  {
   "cell_type": "code",
   "execution_count": 6,
   "metadata": {},
   "outputs": [
    {
     "name": "stdout",
     "output_type": "stream",
     "text": [
      "0.9857142857142858\n"
     ]
    }
   ],
   "source": [
    "x = np.array(data[\"CONTENT\"])\n",
    "y = np.array(data[\"CLASS\"])\n",
    "\n",
    "cv = CountVectorizer()\n",
    "x = cv.fit_transform(x)\n",
    "xtrain, xtest, ytrain, ytest = train_test_split(x, y, \n",
    "                                                test_size=0.2, \n",
    "                                                random_state=42)\n",
    "\n",
    "model = BernoulliNB()\n",
    "model.fit(xtrain, ytrain)\n",
    "print(model.score(xtest, ytest))"
   ]
  },
  {
   "cell_type": "code",
   "execution_count": 7,
   "metadata": {},
   "outputs": [
    {
     "name": "stdout",
     "output_type": "stream",
     "text": [
      "['Spam Comment']\n"
     ]
    }
   ],
   "source": [
    "sample = \"Check this out: https://thecleverprogrammer.com/\" \n",
    "data = cv.transform([sample]).toarray()\n",
    "print(model.predict(data))"
   ]
  },
  {
   "cell_type": "code",
   "execution_count": 8,
   "metadata": {},
   "outputs": [
    {
     "name": "stdout",
     "output_type": "stream",
     "text": [
      "['Not Spam']\n"
     ]
    }
   ],
   "source": [
    "sample = \"Lack of information!\" \n",
    "data = cv.transform([sample]).toarray()\n",
    "print(model.predict(data)) "
   ]
  }
 ],
 "metadata": {
  "kernelspec": {
   "display_name": "Python 3",
   "language": "python",
   "name": "python3"
  },
  "language_info": {
   "codemirror_mode": {
    "name": "ipython",
    "version": 3
   },
   "file_extension": ".py",
   "mimetype": "text/x-python",
   "name": "python",
   "nbconvert_exporter": "python",
   "pygments_lexer": "ipython3",
   "version": "3.11.2"
  }
 },
 "nbformat": 4,
 "nbformat_minor": 2
}
